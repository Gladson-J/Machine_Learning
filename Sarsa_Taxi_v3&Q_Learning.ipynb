{
  "nbformat": 4,
  "nbformat_minor": 0,
  "metadata": {
    "colab": {
      "provenance": []
    },
    "kernelspec": {
      "name": "python3",
      "display_name": "Python 3"
    },
    "language_info": {
      "name": "python"
    }
  },
  "cells": [
    {
      "cell_type": "code",
      "execution_count": 7,
      "metadata": {
        "id": "6sWY94UmWGRP"
      },
      "outputs": [],
      "source": [
        "import numpy as np\n",
        "import gym"
      ]
    },
    {
      "cell_type": "code",
      "source": [
        "def eps_greedy(Q,s,eps=0.1):\n",
        "    if np.random.uniform(0,1) < eps:\n",
        "      return np.random.randint(Q.shape[1])\n",
        "    else:\n",
        "        return greedy(Q,s)"
      ],
      "metadata": {
        "id": "MWxEHeoxWJIh"
      },
      "execution_count": 8,
      "outputs": []
    },
    {
      "cell_type": "code",
      "source": [
        "def greedy(Q,s):\n",
        "    return np.argmax(Q[s])"
      ],
      "metadata": {
        "id": "kUUMUErsX2Jw"
      },
      "execution_count": 9,
      "outputs": []
    },
    {
      "cell_type": "code",
      "source": [
        "def run_episodes(env, Q, num_episodes=100, to_print=False):\n",
        "    tot_rew = [] #total reward\n",
        "    state = env.reset()\n",
        "\n",
        "    for _ in range(num_episodes):\n",
        "        done = False\n",
        "        game_rew = 0\n",
        "\n",
        "        while not done:\n",
        "            next_state, rew, done, _ =env.step(greedy(Q, state))\n",
        "\n",
        "            state = next_state\n",
        "            game_rew += rew\n",
        "            if done:\n",
        "                state = env.reset()\n",
        "                tot_rew.append(game_rew)\n",
        "\n",
        "    if to_print:\n",
        "        print('Mean score: %.3f of %1 games!'%(np.mean(tot_rew), num_episodes))\n",
        "\n",
        "    return np.mean(tot_rew)"
      ],
      "metadata": {
        "id": "dbNyDoUEYOLb"
      },
      "execution_count": 10,
      "outputs": []
    },
    {
      "cell_type": "code",
      "source": [
        "def SARSA(env, lr=0.01, num_episodes=10000, eps=0.3, gamma=0.95, eps_decay=0.00005):\n",
        "    nA = env.action_space.n\n",
        "    nS = env.observation_space.n\n",
        "\n",
        "    Q = np.zeros((nS, nA))\n",
        "    games_rewards=[]\n",
        "    test_rewards=[]\n",
        "\n",
        "    for ep in range(num_episodes):\n",
        "        state = env.reset()\n",
        "        done = False\n",
        "        tot_rew = 0\n",
        "\n",
        "        if eps>0.01:\n",
        "            eps -= eps_decay\n",
        "\n",
        "\n",
        "        action = eps_greedy(Q, state, eps)\n",
        "\n",
        "        while not done:\n",
        "            next_state, rew, done, _ = env.step(action)\n",
        "\n",
        "            next_action = eps_greedy(Q, next_state, eps)\n",
        "\n",
        "            #Bellman's Equation\n",
        "            Q[state][action] = Q[state][action] + lr*(rew + gamma*Q[next_state][next_action] - Q[state][action])\n",
        "\n",
        "            state = next_state\n",
        "            action = next_action\n",
        "            tot_rew += rew\n",
        "            if done:\n",
        "                games_rewards.append(tot_rew)\n",
        "\n",
        "        if (ep % 300) == 0:\n",
        "              test_rew =run_episodes(env, Q, 1000)\n",
        "              print(\"Episode:{:5d}  Eps:{:2.4f}  Rew:{:2.4f}\".format(ep, eps, test_rew))\n",
        "              test_rewards.append(test_rew)\n",
        "    return Q"
      ],
      "metadata": {
        "id": "WuBv1r8YdqFX"
      },
      "execution_count": 11,
      "outputs": []
    },
    {
      "cell_type": "markdown",
      "source": [
        "SARSA_Taxi_V3"
      ],
      "metadata": {
        "id": "PNrs65tzSNP9"
      }
    },
    {
      "cell_type": "code",
      "source": [
        "if __name__ == '__main__':\n",
        "    env = gym.make('Taxi-v3')\n",
        "    print(\"SARSA\")\n",
        "    Q_sarsa = SARSA(env, lr=0.1, num_episodes=5000, eps=0.4, gamma=0.95, eps_decay=0.001)"
      ],
      "metadata": {
        "colab": {
          "base_uri": "https://localhost:8080/"
        },
        "id": "hNxd_CsJSJ3D",
        "outputId": "61b65f82-d488-4014-c93f-c39eef335549"
      },
      "execution_count": 12,
      "outputs": [
        {
          "output_type": "stream",
          "name": "stdout",
          "text": [
            "SARSA\n",
            "Episode:    0  Eps:0.3990  Rew:-268.2560\n",
            "Episode:  300  Eps:0.0990  Rew:-220.8590\n",
            "Episode:  600  Eps:0.0100  Rew:-174.3740\n",
            "Episode:  900  Eps:0.0100  Rew:-213.8030\n",
            "Episode: 1200  Eps:0.0100  Rew:-99.1470\n",
            "Episode: 1500  Eps:0.0100  Rew:-44.1420\n",
            "Episode: 1800  Eps:0.0100  Rew:-29.6340\n",
            "Episode: 2100  Eps:0.0100  Rew:-15.8950\n",
            "Episode: 2400  Eps:0.0100  Rew:-8.1230\n",
            "Episode: 2700  Eps:0.0100  Rew:-3.8400\n",
            "Episode: 3000  Eps:0.0100  Rew:4.2410\n",
            "Episode: 3300  Eps:0.0100  Rew:5.8390\n",
            "Episode: 3600  Eps:0.0100  Rew:7.8370\n",
            "Episode: 3900  Eps:0.0100  Rew:7.8440\n",
            "Episode: 4200  Eps:0.0100  Rew:8.0350\n",
            "Episode: 4500  Eps:0.0100  Rew:8.0000\n",
            "Episode: 4800  Eps:0.0100  Rew:7.8140\n"
          ]
        }
      ]
    },
    {
      "cell_type": "markdown",
      "source": [
        "Q-LEARNING\n",
        "\n",
        "initialize Q Matrix\n",
        "Decay The Epsilon Until It Reaches The Threshold Choose Next Action SARSA Update Testing The Policy"
      ],
      "metadata": {
        "id": "813v883Ei5px"
      }
    },
    {
      "cell_type": "code",
      "source": [
        "def Q_Learning(env, lr=0.01, num_episodes=10000, eps=0.3, gamma=0.95, eps_decay=0.00005):\n",
        "    nA = env.action_space.n\n",
        "    nS = env.observation_space.n\n",
        "\n",
        "    Q = np.zeros((nS, nA))\n",
        "    games_rewards=[]\n",
        "    test_rewards=[]\n",
        "\n",
        "    for ep in range(num_episodes):\n",
        "        state = env.reset()\n",
        "        done = False\n",
        "        tot_rew = 0\n",
        "\n",
        "        if eps>0.01:\n",
        "            eps -= eps_decay\n",
        "\n",
        "        while not done:\n",
        "\n",
        "            action = eps_greedy(Q, state, eps)\n",
        "            next_state, rew, done, _ = env.step(action)\n",
        "\n",
        "            #Bellman's Equation\n",
        "            Q[state][action] = Q[state][action] + lr*(rew + gamma*np.max(Q[next_state]) - Q[state][action])\n",
        "\n",
        "            state = next_state\n",
        "            tot_rew += rew\n",
        "            if done:\n",
        "                games_rewards.append(tot_rew)\n",
        "\n",
        "        if (ep % 300) == 0:\n",
        "              test_rew =run_episodes(env, Q, 1000)\n",
        "              print(\"Episode:{:5d}  Eps:{:2.4f}  Rew:{:2.4f}\".format(ep, eps, test_rew))\n",
        "              test_rewards.append(test_rew)\n",
        "    return Q"
      ],
      "metadata": {
        "id": "8nlAvk7Ki68g"
      },
      "execution_count": 13,
      "outputs": []
    },
    {
      "cell_type": "code",
      "source": [
        "if __name__ == '__main__':\n",
        "    env = gym.make('Taxi-v3')\n",
        "    print(\"Q_Learning\")\n",
        "    Q_Learning = Q_Learning(env, lr=0.1, num_episodes=5000, eps=0.4, gamma=0.95, eps_decay=0.001)\n"
      ],
      "metadata": {
        "colab": {
          "base_uri": "https://localhost:8080/"
        },
        "id": "jNHlJ_t5jBGY",
        "outputId": "323b37b8-4021-4878-89ed-dd216acd6848"
      },
      "execution_count": 14,
      "outputs": [
        {
          "output_type": "stream",
          "name": "stdout",
          "text": [
            "Q_Learning\n",
            "Episode:    0  Eps:0.3990  Rew:-210.8000\n",
            "Episode:  300  Eps:0.0990  Rew:-198.9270\n",
            "Episode:  600  Eps:0.0100  Rew:-192.3180\n",
            "Episode:  900  Eps:0.0100  Rew:-184.8410\n",
            "Episode: 1200  Eps:0.0100  Rew:-90.6760\n",
            "Episode: 1500  Eps:0.0100  Rew:-73.8650\n",
            "Episode: 1800  Eps:0.0100  Rew:-30.7650\n",
            "Episode: 2100  Eps:0.0100  Rew:-18.8660\n",
            "Episode: 2400  Eps:0.0100  Rew:-6.5620\n",
            "Episode: 2700  Eps:0.0100  Rew:-5.6830\n",
            "Episode: 3000  Eps:0.0100  Rew:3.6980\n",
            "Episode: 3300  Eps:0.0100  Rew:5.2140\n",
            "Episode: 3600  Eps:0.0100  Rew:8.0420\n",
            "Episode: 3900  Eps:0.0100  Rew:7.9150\n",
            "Episode: 4200  Eps:0.0100  Rew:7.9460\n",
            "Episode: 4500  Eps:0.0100  Rew:7.9660\n",
            "Episode: 4800  Eps:0.0100  Rew:7.8270\n"
          ]
        }
      ]
    },
    {
      "cell_type": "code",
      "source": [],
      "metadata": {
        "id": "AuFioB7DjGvA"
      },
      "execution_count": null,
      "outputs": []
    }
  ]
}